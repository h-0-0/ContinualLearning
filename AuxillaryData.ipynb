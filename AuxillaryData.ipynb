{
 "cells": [
  {
   "attachments": {},
   "cell_type": "markdown",
   "metadata": {},
   "source": [
    "# Using Auxillary Data To Reduce Forgetting\n",
    "In this notebook we will explore how we can use auxillary data to reduce forgetting."
   ]
  },
  {
   "cell_type": "code",
   "execution_count": 18,
   "metadata": {},
   "outputs": [
    {
     "name": "stdout",
     "output_type": "stream",
     "text": [
      "Requirement already satisfied: pandas in ./.venv/lib/python3.8/site-packages (2.0.3)\n",
      "Requirement already satisfied: python-dateutil>=2.8.2 in ./.venv/lib/python3.8/site-packages (from pandas) (2.8.2)\n",
      "Requirement already satisfied: pytz>=2020.1 in ./.venv/lib/python3.8/site-packages (from pandas) (2023.3)\n",
      "Requirement already satisfied: tzdata>=2022.1 in ./.venv/lib/python3.8/site-packages (from pandas) (2023.3)\n",
      "Requirement already satisfied: numpy>=1.20.3 in ./.venv/lib/python3.8/site-packages (from pandas) (1.24.3)\n",
      "Requirement already satisfied: six>=1.5 in ./.venv/lib/python3.8/site-packages (from python-dateutil>=2.8.2->pandas) (1.16.0)\n",
      "Requirement already satisfied: tensorboard in ./.venv/lib/python3.8/site-packages (2.13.0)\n",
      "Requirement already satisfied: absl-py>=0.4 in ./.venv/lib/python3.8/site-packages (from tensorboard) (1.4.0)\n",
      "Requirement already satisfied: grpcio>=1.48.2 in ./.venv/lib/python3.8/site-packages (from tensorboard) (1.57.0)\n",
      "Requirement already satisfied: google-auth<3,>=1.6.3 in ./.venv/lib/python3.8/site-packages (from tensorboard) (2.22.0)\n",
      "Requirement already satisfied: google-auth-oauthlib<1.1,>=0.5 in ./.venv/lib/python3.8/site-packages (from tensorboard) (1.0.0)\n",
      "Requirement already satisfied: markdown>=2.6.8 in ./.venv/lib/python3.8/site-packages (from tensorboard) (3.4.4)\n",
      "Requirement already satisfied: numpy>=1.12.0 in ./.venv/lib/python3.8/site-packages (from tensorboard) (1.24.3)\n",
      "Requirement already satisfied: protobuf>=3.19.6 in ./.venv/lib/python3.8/site-packages (from tensorboard) (4.24.0)\n",
      "Requirement already satisfied: requests<3,>=2.21.0 in ./.venv/lib/python3.8/site-packages (from tensorboard) (2.31.0)\n",
      "Requirement already satisfied: setuptools>=41.0.0 in ./.venv/lib/python3.8/site-packages (from tensorboard) (44.0.0)\n",
      "Requirement already satisfied: tensorboard-data-server<0.8.0,>=0.7.0 in ./.venv/lib/python3.8/site-packages (from tensorboard) (0.7.1)\n",
      "Requirement already satisfied: werkzeug>=1.0.1 in ./.venv/lib/python3.8/site-packages (from tensorboard) (2.3.7)\n",
      "Requirement already satisfied: wheel>=0.26 in ./.venv/lib/python3.8/site-packages (from tensorboard) (0.41.1)\n",
      "Requirement already satisfied: cachetools<6.0,>=2.0.0 in ./.venv/lib/python3.8/site-packages (from google-auth<3,>=1.6.3->tensorboard) (5.3.1)\n",
      "Requirement already satisfied: pyasn1-modules>=0.2.1 in ./.venv/lib/python3.8/site-packages (from google-auth<3,>=1.6.3->tensorboard) (0.3.0)\n",
      "Requirement already satisfied: rsa<5,>=3.1.4 in ./.venv/lib/python3.8/site-packages (from google-auth<3,>=1.6.3->tensorboard) (4.9)\n",
      "Requirement already satisfied: six>=1.9.0 in ./.venv/lib/python3.8/site-packages (from google-auth<3,>=1.6.3->tensorboard) (1.16.0)\n",
      "Requirement already satisfied: urllib3<2.0 in ./.venv/lib/python3.8/site-packages (from google-auth<3,>=1.6.3->tensorboard) (1.26.16)\n",
      "Requirement already satisfied: requests-oauthlib>=0.7.0 in ./.venv/lib/python3.8/site-packages (from google-auth-oauthlib<1.1,>=0.5->tensorboard) (1.3.1)\n",
      "Requirement already satisfied: importlib-metadata>=4.4 in ./.venv/lib/python3.8/site-packages (from markdown>=2.6.8->tensorboard) (6.8.0)\n",
      "Requirement already satisfied: charset-normalizer<4,>=2 in ./.venv/lib/python3.8/site-packages (from requests<3,>=2.21.0->tensorboard) (3.2.0)\n",
      "Requirement already satisfied: idna<4,>=2.5 in ./.venv/lib/python3.8/site-packages (from requests<3,>=2.21.0->tensorboard) (3.4)\n",
      "Requirement already satisfied: certifi>=2017.4.17 in ./.venv/lib/python3.8/site-packages (from requests<3,>=2.21.0->tensorboard) (2023.7.22)\n",
      "Requirement already satisfied: MarkupSafe>=2.1.1 in ./.venv/lib/python3.8/site-packages (from werkzeug>=1.0.1->tensorboard) (2.1.3)\n",
      "Requirement already satisfied: zipp>=0.5 in ./.venv/lib/python3.8/site-packages (from importlib-metadata>=4.4->markdown>=2.6.8->tensorboard) (3.16.2)\n",
      "Requirement already satisfied: pyasn1<0.6.0,>=0.4.6 in ./.venv/lib/python3.8/site-packages (from pyasn1-modules>=0.2.1->google-auth<3,>=1.6.3->tensorboard) (0.5.0)\n",
      "Requirement already satisfied: oauthlib>=3.0.0 in ./.venv/lib/python3.8/site-packages (from requests-oauthlib>=0.7.0->google-auth-oauthlib<1.1,>=0.5->tensorboard) (3.2.2)\n",
      "Collecting matplotlib\n",
      "  Obtaining dependency information for matplotlib from https://files.pythonhosted.org/packages/b4/c2/f74e0deb26379aead0956a6ecf9acd4587debba0c7abe4bd8fe53fe04ec2/matplotlib-3.7.2-cp38-cp38-manylinux_2_12_x86_64.manylinux2010_x86_64.whl.metadata\n",
      "  Downloading matplotlib-3.7.2-cp38-cp38-manylinux_2_12_x86_64.manylinux2010_x86_64.whl.metadata (5.6 kB)\n",
      "Collecting contourpy>=1.0.1 (from matplotlib)\n",
      "  Obtaining dependency information for contourpy>=1.0.1 from https://files.pythonhosted.org/packages/32/c8/aa9e87941002150b1a8e7087e48da1c76290268b9fdfa3034a98a5806198/contourpy-1.1.0-cp38-cp38-manylinux_2_17_x86_64.manylinux2014_x86_64.whl.metadata\n",
      "  Downloading contourpy-1.1.0-cp38-cp38-manylinux_2_17_x86_64.manylinux2014_x86_64.whl.metadata (5.7 kB)\n",
      "Collecting cycler>=0.10 (from matplotlib)\n",
      "  Using cached cycler-0.11.0-py3-none-any.whl (6.4 kB)\n",
      "Collecting fonttools>=4.22.0 (from matplotlib)\n",
      "  Obtaining dependency information for fonttools>=4.22.0 from https://files.pythonhosted.org/packages/d3/e2/0dc07c946b98a036b25b97899bf38d51aef24f793b80ac686f07f817b7ac/fonttools-4.42.0-cp38-cp38-manylinux_2_17_x86_64.manylinux2014_x86_64.whl.metadata\n",
      "  Downloading fonttools-4.42.0-cp38-cp38-manylinux_2_17_x86_64.manylinux2014_x86_64.whl.metadata (150 kB)\n",
      "\u001b[2K     \u001b[90m━━━━━━━━━━━━━━━━━━━━━━━━━━━━━━━━━━━━━━━\u001b[0m \u001b[32m150.6/150.6 kB\u001b[0m \u001b[31m2.5 MB/s\u001b[0m eta \u001b[36m0:00:00\u001b[0ma \u001b[36m0:00:01\u001b[0m\n",
      "\u001b[?25hCollecting kiwisolver>=1.0.1 (from matplotlib)\n",
      "  Using cached kiwisolver-1.4.4-cp38-cp38-manylinux_2_5_x86_64.manylinux1_x86_64.whl (1.2 MB)\n",
      "Requirement already satisfied: numpy>=1.20 in ./.venv/lib/python3.8/site-packages (from matplotlib) (1.24.3)\n",
      "Requirement already satisfied: packaging>=20.0 in ./.venv/lib/python3.8/site-packages (from matplotlib) (23.1)\n",
      "Collecting pillow>=6.2.0 (from matplotlib)\n",
      "  Obtaining dependency information for pillow>=6.2.0 from https://files.pythonhosted.org/packages/ff/8c/5927a58c43ebc16e508eef325fdc6473b569e2474d3b4be49798aa371007/Pillow-10.0.0-cp38-cp38-manylinux_2_28_x86_64.whl.metadata\n",
      "  Downloading Pillow-10.0.0-cp38-cp38-manylinux_2_28_x86_64.whl.metadata (9.5 kB)\n",
      "Collecting pyparsing<3.1,>=2.3.1 (from matplotlib)\n",
      "  Using cached pyparsing-3.0.9-py3-none-any.whl (98 kB)\n",
      "Requirement already satisfied: python-dateutil>=2.7 in ./.venv/lib/python3.8/site-packages (from matplotlib) (2.8.2)\n",
      "Collecting importlib-resources>=3.2.0 (from matplotlib)\n",
      "  Obtaining dependency information for importlib-resources>=3.2.0 from https://files.pythonhosted.org/packages/25/d4/592f53ce2f8dde8be5720851bd0ab71cc2e76c55978e4163ef1ab7e389bb/importlib_resources-6.0.1-py3-none-any.whl.metadata\n",
      "  Downloading importlib_resources-6.0.1-py3-none-any.whl.metadata (4.0 kB)\n",
      "Requirement already satisfied: zipp>=3.1.0 in ./.venv/lib/python3.8/site-packages (from importlib-resources>=3.2.0->matplotlib) (3.16.2)\n",
      "Requirement already satisfied: six>=1.5 in ./.venv/lib/python3.8/site-packages (from python-dateutil>=2.7->matplotlib) (1.16.0)\n",
      "Using cached matplotlib-3.7.2-cp38-cp38-manylinux_2_12_x86_64.manylinux2010_x86_64.whl (9.2 MB)\n",
      "Using cached contourpy-1.1.0-cp38-cp38-manylinux_2_17_x86_64.manylinux2014_x86_64.whl (300 kB)\n",
      "Using cached fonttools-4.42.0-cp38-cp38-manylinux_2_17_x86_64.manylinux2014_x86_64.whl (4.6 MB)\n",
      "Using cached importlib_resources-6.0.1-py3-none-any.whl (34 kB)\n",
      "Downloading Pillow-10.0.0-cp38-cp38-manylinux_2_28_x86_64.whl (3.4 MB)\n",
      "\u001b[2K   \u001b[90m━━━━━━━━━━━━━━━━━━━━━━━━━━━━━━━━━━━━━━━━\u001b[0m \u001b[32m3.4/3.4 MB\u001b[0m \u001b[31m16.9 MB/s\u001b[0m eta \u001b[36m0:00:00\u001b[0m00:01\u001b[0m00:01\u001b[0m\n",
      "\u001b[?25hInstalling collected packages: pyparsing, pillow, kiwisolver, importlib-resources, fonttools, cycler, contourpy, matplotlib\n",
      "Successfully installed contourpy-1.1.0 cycler-0.11.0 fonttools-4.42.0 importlib-resources-6.0.1 kiwisolver-1.4.4 matplotlib-3.7.2 pillow-10.0.0 pyparsing-3.0.9\n"
     ]
    }
   ],
   "source": [
    "!pip install pandas\n",
    "!pip install tensorboard\n",
    "!pip install matplotlib"
   ]
  },
  {
   "cell_type": "code",
   "execution_count": 19,
   "metadata": {},
   "outputs": [],
   "source": [
    "from tensorboard.backend.event_processing import event_accumulator\n",
    "import pandas as pd\n",
    "import numpy as np\n",
    "import os\n",
    "import matplotlib.pyplot as plt\n",
    "\n",
    "# To create csv files from tensorboard logs\n",
    "def parse_tensorboard(path, scalars):\n",
    "    \"\"\"returns a dictionary of pandas dataframes for each requested scalar\"\"\"\n",
    "    ea = event_accumulator.EventAccumulator(\n",
    "        path,\n",
    "        size_guidance={event_accumulator.SCALARS: 0},\n",
    "    )\n",
    "    _absorb_print = ea.Reload()\n",
    "    # make sure the scalars are in the event accumulator tags\n",
    "    assert all(\n",
    "        s in ea.Tags()[\"scalars\"] for s in scalars\n",
    "    ), \"some scalars were not found in the event accumulator\"\n",
    "    return {k: pd.DataFrame(ea.Scalars(k)) for k in scalars}\n",
    "\n",
    "def get_scalar_tags(path):\n",
    "    ea = event_accumulator.EventAccumulator(\n",
    "        path,\n",
    "        size_guidance={event_accumulator.SCALARS: 0},\n",
    "    )\n",
    "    _absorb_print = ea.Reload()\n",
    "    return ea.Tags()"
   ]
  },
  {
   "attachments": {},
   "cell_type": "markdown",
   "metadata": {},
   "source": [
    "## Using a labelled stratified subset of the data\n",
    "In these experiments we selected the auxillary data as a subset of our CL benchmark, specifically, we select it randomly in a stratified manner (ie. our subset has an equal number of samples from every class). \n",
    "\n",
    "Let's first investigate how varying the percentage of the total dataset that we use as auxillary data affects the performance of the model on the split-CIFAR10 with 5 tasks:"
   ]
  },
  {
   "cell_type": "code",
   "execution_count": 27,
   "metadata": {},
   "outputs": [
    {
     "ename": "DirectoryDeletedError",
     "evalue": "Directory log/SplitCIFAR10/VGG16/SGD/fixed_replay_stratify/percent_0.25_ratio_0.25_lr_0.1 has been permanently deleted",
     "output_type": "error",
     "traceback": [
      "\u001b[0;31m---------------------------------------------------------------------------\u001b[0m",
      "\u001b[0;31mNotFoundError\u001b[0m                             Traceback (most recent call last)",
      "File \u001b[0;32m~/Documents/ContinualLearning/.venv/lib/python3.8/site-packages/tensorboard/backend/event_processing/directory_watcher.py:88\u001b[0m, in \u001b[0;36mDirectoryWatcher.Load\u001b[0;34m(self)\u001b[0m\n\u001b[1;32m     87\u001b[0m \u001b[39mtry\u001b[39;00m:\n\u001b[0;32m---> 88\u001b[0m     \u001b[39mfor\u001b[39;00m event \u001b[39min\u001b[39;00m \u001b[39mself\u001b[39m\u001b[39m.\u001b[39m_LoadInternal():\n\u001b[1;32m     89\u001b[0m         \u001b[39myield\u001b[39;00m event\n",
      "File \u001b[0;32m~/Documents/ContinualLearning/.venv/lib/python3.8/site-packages/tensorboard/backend/event_processing/directory_watcher.py:110\u001b[0m, in \u001b[0;36mDirectoryWatcher._LoadInternal\u001b[0;34m(self)\u001b[0m\n\u001b[1;32m    109\u001b[0m \u001b[39mif\u001b[39;00m \u001b[39mnot\u001b[39;00m \u001b[39mself\u001b[39m\u001b[39m.\u001b[39m_loader:\n\u001b[0;32m--> 110\u001b[0m     \u001b[39mself\u001b[39;49m\u001b[39m.\u001b[39;49m_InitializeLoader()\n\u001b[1;32m    112\u001b[0m \u001b[39m# If it still doesn't exist, there is no data\u001b[39;00m\n",
      "File \u001b[0;32m~/Documents/ContinualLearning/.venv/lib/python3.8/site-packages/tensorboard/backend/event_processing/directory_watcher.py:173\u001b[0m, in \u001b[0;36mDirectoryWatcher._InitializeLoader\u001b[0;34m(self)\u001b[0m\n\u001b[1;32m    172\u001b[0m \u001b[39mdef\u001b[39;00m \u001b[39m_InitializeLoader\u001b[39m(\u001b[39mself\u001b[39m):\n\u001b[0;32m--> 173\u001b[0m     path \u001b[39m=\u001b[39m \u001b[39mself\u001b[39;49m\u001b[39m.\u001b[39;49m_GetNextPath()\n\u001b[1;32m    174\u001b[0m     \u001b[39mif\u001b[39;00m path:\n",
      "File \u001b[0;32m~/Documents/ContinualLearning/.venv/lib/python3.8/site-packages/tensorboard/backend/event_processing/directory_watcher.py:210\u001b[0m, in \u001b[0;36mDirectoryWatcher._GetNextPath\u001b[0;34m(self)\u001b[0m\n\u001b[1;32m    200\u001b[0m \u001b[39m\u001b[39m\u001b[39m\"\"\"Gets the next path to load from.\u001b[39;00m\n\u001b[1;32m    201\u001b[0m \n\u001b[1;32m    202\u001b[0m \u001b[39mThis function also does the checking for out-of-order writes as it iterates\u001b[39;00m\n\u001b[0;32m   (...)\u001b[0m\n\u001b[1;32m    206\u001b[0m \u001b[39m  The next path to load events from, or None if there are no more paths.\u001b[39;00m\n\u001b[1;32m    207\u001b[0m \u001b[39m\"\"\"\u001b[39;00m\n\u001b[1;32m    208\u001b[0m paths \u001b[39m=\u001b[39m \u001b[39msorted\u001b[39m(\n\u001b[1;32m    209\u001b[0m     path\n\u001b[0;32m--> 210\u001b[0m     \u001b[39mfor\u001b[39;00m path \u001b[39min\u001b[39;00m io_wrapper\u001b[39m.\u001b[39;49mListDirectoryAbsolute(\u001b[39mself\u001b[39;49m\u001b[39m.\u001b[39;49m_directory)\n\u001b[1;32m    211\u001b[0m     \u001b[39mif\u001b[39;00m \u001b[39mself\u001b[39m\u001b[39m.\u001b[39m_path_filter(path)\n\u001b[1;32m    212\u001b[0m )\n\u001b[1;32m    213\u001b[0m \u001b[39mif\u001b[39;00m \u001b[39mnot\u001b[39;00m paths:\n",
      "File \u001b[0;32m~/Documents/ContinualLearning/.venv/lib/python3.8/site-packages/tensorboard/backend/event_processing/io_wrapper.py:78\u001b[0m, in \u001b[0;36mListDirectoryAbsolute\u001b[0;34m(directory)\u001b[0m\n\u001b[1;32m     73\u001b[0m \u001b[39m\u001b[39m\u001b[39m\"\"\"Yields all files in the given directory.\u001b[39;00m\n\u001b[1;32m     74\u001b[0m \n\u001b[1;32m     75\u001b[0m \u001b[39mThe paths are absolute.\u001b[39;00m\n\u001b[1;32m     76\u001b[0m \u001b[39m\"\"\"\u001b[39;00m\n\u001b[1;32m     77\u001b[0m \u001b[39mreturn\u001b[39;00m (\n\u001b[0;32m---> 78\u001b[0m     os\u001b[39m.\u001b[39mpath\u001b[39m.\u001b[39mjoin(directory, path) \u001b[39mfor\u001b[39;00m path \u001b[39min\u001b[39;00m tf\u001b[39m.\u001b[39;49mio\u001b[39m.\u001b[39;49mgfile\u001b[39m.\u001b[39;49mlistdir(directory)\n\u001b[1;32m     79\u001b[0m )\n",
      "File \u001b[0;32m~/Documents/ContinualLearning/.venv/lib/python3.8/site-packages/tensorflow/python/lib/io/file_io.py:768\u001b[0m, in \u001b[0;36mlist_directory_v2\u001b[0;34m(path)\u001b[0m\n\u001b[1;32m    767\u001b[0m \u001b[39mif\u001b[39;00m \u001b[39mnot\u001b[39;00m is_directory(path):\n\u001b[0;32m--> 768\u001b[0m   \u001b[39mraise\u001b[39;00m errors\u001b[39m.\u001b[39mNotFoundError(\n\u001b[1;32m    769\u001b[0m       node_def\u001b[39m=\u001b[39m\u001b[39mNone\u001b[39;00m,\n\u001b[1;32m    770\u001b[0m       op\u001b[39m=\u001b[39m\u001b[39mNone\u001b[39;00m,\n\u001b[1;32m    771\u001b[0m       message\u001b[39m=\u001b[39m\u001b[39m\"\u001b[39m\u001b[39mCould not find directory \u001b[39m\u001b[39m{}\u001b[39;00m\u001b[39m\"\u001b[39m\u001b[39m.\u001b[39mformat(path))\n\u001b[1;32m    773\u001b[0m \u001b[39m# Convert each element to string, since the return values of the\u001b[39;00m\n\u001b[1;32m    774\u001b[0m \u001b[39m# vector of string should be interpreted as strings, not bytes.\u001b[39;00m\n",
      "\u001b[0;31mNotFoundError\u001b[0m: Could not find directory log/SplitCIFAR10/VGG16/SGD/fixed_replay_stratify/percent_0.25_ratio_0.25_lr_0.1",
      "\nDuring handling of the above exception, another exception occurred:\n",
      "\u001b[0;31mDirectoryDeletedError\u001b[0m                     Traceback (most recent call last)",
      "Cell \u001b[0;32mIn[27], line 13\u001b[0m\n\u001b[1;32m     11\u001b[0m data \u001b[39m=\u001b[39m []\n\u001b[1;32m     12\u001b[0m \u001b[39mfor\u001b[39;00m exp \u001b[39min\u001b[39;00m experiments:\n\u001b[0;32m---> 13\u001b[0m     data\u001b[39m.\u001b[39mappend(parse_tensorboard(exp, [\n\u001b[1;32m     14\u001b[0m         \u001b[39m\"\u001b[39;49m\u001b[39mTop1_Acc_MB/train_phase/train_stream/Task000\u001b[39;49m\u001b[39m\"\u001b[39;49m, \n\u001b[1;32m     15\u001b[0m         \u001b[39m\"\u001b[39;49m\u001b[39mTop1_ClassAcc_MB/train_phase/train_stream/Task000/0\u001b[39;49m\u001b[39m\"\u001b[39;49m,\n\u001b[1;32m     16\u001b[0m         \u001b[39m\"\u001b[39;49m\u001b[39mTop1_ClassAcc_MB/train_phase/train_stream/Task000/1\u001b[39;49m\u001b[39m\"\u001b[39;49m,\n\u001b[1;32m     17\u001b[0m         \u001b[39m\"\u001b[39;49m\u001b[39mTop1_ClassAcc_MB/train_phase/train_stream/Task000/2\u001b[39;49m\u001b[39m\"\u001b[39;49m,\n\u001b[1;32m     18\u001b[0m         \u001b[39m\"\u001b[39;49m\u001b[39mTop1_ClassAcc_MB/train_phase/train_stream/Task000/3\u001b[39;49m\u001b[39m\"\u001b[39;49m,\n\u001b[1;32m     19\u001b[0m         \u001b[39m\"\u001b[39;49m\u001b[39mTop1_ClassAcc_MB/train_phase/train_stream/Task000/4\u001b[39;49m\u001b[39m\"\u001b[39;49m,\n\u001b[1;32m     20\u001b[0m         \u001b[39m\"\u001b[39;49m\u001b[39mTop1_ClassAcc_MB/train_phase/train_stream/Task000/5\u001b[39;49m\u001b[39m\"\u001b[39;49m,\n\u001b[1;32m     21\u001b[0m         \u001b[39m\"\u001b[39;49m\u001b[39mTop1_ClassAcc_MB/train_phase/train_stream/Task000/6\u001b[39;49m\u001b[39m\"\u001b[39;49m,\n\u001b[1;32m     22\u001b[0m         \u001b[39m\"\u001b[39;49m\u001b[39mTop1_ClassAcc_MB/train_phase/train_stream/Task000/7\u001b[39;49m\u001b[39m\"\u001b[39;49m,\n\u001b[1;32m     23\u001b[0m         \u001b[39m\"\u001b[39;49m\u001b[39mTop1_ClassAcc_MB/train_phase/train_stream/Task000/8\u001b[39;49m\u001b[39m\"\u001b[39;49m,\n\u001b[1;32m     24\u001b[0m         \u001b[39m\"\u001b[39;49m\u001b[39mTop1_ClassAcc_MB/train_phase/train_stream/Task000/9\u001b[39;49m\u001b[39m\"\u001b[39;49m,\n\u001b[1;32m     25\u001b[0m     ]))\n\u001b[1;32m     27\u001b[0m \u001b[39m# Let's now plot a graph for the accuracy and loss over training for each experiment:\u001b[39;00m\n\u001b[1;32m     28\u001b[0m fig, ax \u001b[39m=\u001b[39m plt\u001b[39m.\u001b[39msubplots(\u001b[39mlen\u001b[39m(experiments), \u001b[39m1\u001b[39m, figsize\u001b[39m=\u001b[39m(\u001b[39m10\u001b[39m, \u001b[39m10\u001b[39m))\n",
      "Cell \u001b[0;32mIn[19], line 14\u001b[0m, in \u001b[0;36mparse_tensorboard\u001b[0;34m(path, scalars)\u001b[0m\n\u001b[1;32m      9\u001b[0m \u001b[39m\u001b[39m\u001b[39m\"\"\"returns a dictionary of pandas dataframes for each requested scalar\"\"\"\u001b[39;00m\n\u001b[1;32m     10\u001b[0m ea \u001b[39m=\u001b[39m event_accumulator\u001b[39m.\u001b[39mEventAccumulator(\n\u001b[1;32m     11\u001b[0m     path,\n\u001b[1;32m     12\u001b[0m     size_guidance\u001b[39m=\u001b[39m{event_accumulator\u001b[39m.\u001b[39mSCALARS: \u001b[39m0\u001b[39m},\n\u001b[1;32m     13\u001b[0m )\n\u001b[0;32m---> 14\u001b[0m _absorb_print \u001b[39m=\u001b[39m ea\u001b[39m.\u001b[39;49mReload()\n\u001b[1;32m     15\u001b[0m \u001b[39m# make sure the scalars are in the event accumulator tags\u001b[39;00m\n\u001b[1;32m     16\u001b[0m \u001b[39massert\u001b[39;00m \u001b[39mall\u001b[39m(\n\u001b[1;32m     17\u001b[0m     s \u001b[39min\u001b[39;00m ea\u001b[39m.\u001b[39mTags()[\u001b[39m\"\u001b[39m\u001b[39mscalars\u001b[39m\u001b[39m\"\u001b[39m] \u001b[39mfor\u001b[39;00m s \u001b[39min\u001b[39;00m scalars\n\u001b[1;32m     18\u001b[0m ), \u001b[39m\"\u001b[39m\u001b[39msome scalars were not found in the event accumulator\u001b[39m\u001b[39m\"\u001b[39m\n",
      "File \u001b[0;32m~/Documents/ContinualLearning/.venv/lib/python3.8/site-packages/tensorboard/backend/event_processing/event_accumulator.py:343\u001b[0m, in \u001b[0;36mEventAccumulator.Reload\u001b[0;34m(self)\u001b[0m\n\u001b[1;32m    335\u001b[0m \u001b[39m\u001b[39m\u001b[39m\"\"\"Loads all events added since the last call to `Reload`.\u001b[39;00m\n\u001b[1;32m    336\u001b[0m \n\u001b[1;32m    337\u001b[0m \u001b[39mIf `Reload` was never called, loads all events in the file.\u001b[39;00m\n\u001b[0;32m   (...)\u001b[0m\n\u001b[1;32m    340\u001b[0m \u001b[39m  The `EventAccumulator`.\u001b[39;00m\n\u001b[1;32m    341\u001b[0m \u001b[39m\"\"\"\u001b[39;00m\n\u001b[1;32m    342\u001b[0m \u001b[39mwith\u001b[39;00m \u001b[39mself\u001b[39m\u001b[39m.\u001b[39m_generator_mutex:\n\u001b[0;32m--> 343\u001b[0m     \u001b[39mfor\u001b[39;00m event \u001b[39min\u001b[39;00m \u001b[39mself\u001b[39m\u001b[39m.\u001b[39m_generator\u001b[39m.\u001b[39mLoad():\n\u001b[1;32m    344\u001b[0m         \u001b[39mself\u001b[39m\u001b[39m.\u001b[39m_ProcessEvent(event)\n\u001b[1;32m    345\u001b[0m \u001b[39mreturn\u001b[39;00m \u001b[39mself\u001b[39m\n",
      "File \u001b[0;32m~/Documents/ContinualLearning/.venv/lib/python3.8/site-packages/tensorboard/backend/event_processing/directory_watcher.py:92\u001b[0m, in \u001b[0;36mDirectoryWatcher.Load\u001b[0;34m(self)\u001b[0m\n\u001b[1;32m     90\u001b[0m \u001b[39mexcept\u001b[39;00m tf\u001b[39m.\u001b[39merrors\u001b[39m.\u001b[39mOpError:\n\u001b[1;32m     91\u001b[0m     \u001b[39mif\u001b[39;00m \u001b[39mnot\u001b[39;00m tf\u001b[39m.\u001b[39mio\u001b[39m.\u001b[39mgfile\u001b[39m.\u001b[39mexists(\u001b[39mself\u001b[39m\u001b[39m.\u001b[39m_directory):\n\u001b[0;32m---> 92\u001b[0m         \u001b[39mraise\u001b[39;00m DirectoryDeletedError(\n\u001b[1;32m     93\u001b[0m             \u001b[39m\"\u001b[39m\u001b[39mDirectory \u001b[39m\u001b[39m%s\u001b[39;00m\u001b[39m has been permanently deleted\u001b[39m\u001b[39m\"\u001b[39m\n\u001b[1;32m     94\u001b[0m             \u001b[39m%\u001b[39m \u001b[39mself\u001b[39m\u001b[39m.\u001b[39m_directory\n\u001b[1;32m     95\u001b[0m         )\n",
      "\u001b[0;31mDirectoryDeletedError\u001b[0m: Directory log/SplitCIFAR10/VGG16/SGD/fixed_replay_stratify/percent_0.25_ratio_0.25_lr_0.1 has been permanently deleted"
     ]
    }
   ],
   "source": [
    "# Let's create a list of all the experiments we want to compare:\n",
    "experiments = [\n",
    "    \"percent_0.25_ratio_0.25_lr_0.1\",\n",
    "    \"percent_0.5_ratio_0.5_lr_0.1\",\n",
    "    \"percent_0.75_ratio_0.75_lr_0.1\"\n",
    "]\n",
    "base_str = \"log/SplitCIFAR10/VGG16/SGD/fixed_replay_stratify/\"\n",
    "experiments = [base_str + exp for exp in experiments]\n",
    "\n",
    "# Let's first get the data from our tensorboard logs:\n",
    "data = []\n",
    "for exp in experiments:\n",
    "    data.append(parse_tensorboard(exp, [\n",
    "        \"Top1_Acc_MB/train_phase/train_stream/Task000\", \n",
    "        \"Top1_ClassAcc_MB/train_phase/train_stream/Task000/0\",\n",
    "        \"Top1_ClassAcc_MB/train_phase/train_stream/Task000/1\",\n",
    "        \"Top1_ClassAcc_MB/train_phase/train_stream/Task000/2\",\n",
    "        \"Top1_ClassAcc_MB/train_phase/train_stream/Task000/3\",\n",
    "        \"Top1_ClassAcc_MB/train_phase/train_stream/Task000/4\",\n",
    "        \"Top1_ClassAcc_MB/train_phase/train_stream/Task000/5\",\n",
    "        \"Top1_ClassAcc_MB/train_phase/train_stream/Task000/6\",\n",
    "        \"Top1_ClassAcc_MB/train_phase/train_stream/Task000/7\",\n",
    "        \"Top1_ClassAcc_MB/train_phase/train_stream/Task000/8\",\n",
    "        \"Top1_ClassAcc_MB/train_phase/train_stream/Task000/9\",\n",
    "    ]))\n",
    "\n",
    "# Let's now plot a graph for the accuracy and loss over training for each experiment:\n",
    "fig, ax = plt.subplots(len(experiments), 1, figsize=(10, 10))\n",
    "for i, exp in enumerate(experiments):\n",
    "    ax[i,0].plot(data[i][\"Top1_Acc_MB/train_phase/train_stream/Task000\"], label=\"Accuracy\")\n",
    "    # ax[i].plot(data[i][\"Top1_ClassAcc_MB/train_phase/train_stream/Task000/0\"], label=\"Class 0\")\n",
    "    # ax[i].plot(data[i][\"Top1_ClassAcc_MB/train_phase/train_stream/Task000/1\"], label=\"Class 1\")\n",
    "    # ax[i].plot(data[i][\"Top1_ClassAcc_MB/train_phase/train_stream/Task000/2\"], label=\"Class 2\")\n",
    "    # ax[i].plot(data[i][\"Top1_ClassAcc_MB/train_phase/train_stream/Task000/3\"], label=\"Class 3\")\n",
    "    # ax[i].plot(data[i][\"Top1_ClassAcc_MB/train_phase/train_stream/Task000/4\"], label=\"Class 4\")\n",
    "    # ax[i].plot(data[i][\"Top1_ClassAcc_MB/train_phase/train_stream/Task000/5\"], label=\"Class 5\")\n",
    "    # ax[i].plot(data[i][\"Top1_ClassAcc_MB/train_phase/train_stream/Task000/6\"], label=\"Class 6\")\n",
    "    # ax[i].plot(data[i][\"Top1_ClassAcc_MB/train_phase/train_stream/Task000/7\"], label=\"Class 7\")\n",
    "    # ax[i].plot(data[i][\"Top1_ClassAcc_MB/train_phase/train_stream/Task000/8\"], label=\"Class 8\")\n",
    "    # ax[i].plot(data[i][\"Top1_ClassAcc_MB/train_phase/train_stream/Task000/9\"], label=\"Class 9\")\n",
    "    ax[i,0].set_title(exp)\n",
    "    ax[i,0].set_xlabel(\"Minibatch\")\n",
    "    ax[i,0].set_ylabel(\"Accuracy\")\n",
    "    ax[i,0].legend()\n"
   ]
  },
  {
   "attachments": {},
   "cell_type": "markdown",
   "metadata": {},
   "source": [
    "Let's now plot the accuracy for each class so we can see if forgetting is occuring for any of the classes. "
   ]
  },
  {
   "cell_type": "code",
   "execution_count": 26,
   "metadata": {},
   "outputs": [
    {
     "ename": "TypeError",
     "evalue": "'Axes' object is not subscriptable",
     "output_type": "error",
     "traceback": [
      "\u001b[0;31m---------------------------------------------------------------------------\u001b[0m",
      "\u001b[0;31mTypeError\u001b[0m                                 Traceback (most recent call last)",
      "Cell \u001b[0;32mIn[26], line 4\u001b[0m\n\u001b[1;32m      2\u001b[0m fig, ax \u001b[39m=\u001b[39m plt\u001b[39m.\u001b[39msubplots(\u001b[39mlen\u001b[39m(experiments), \u001b[39m1\u001b[39m, figsize\u001b[39m=\u001b[39m(\u001b[39m10\u001b[39m, \u001b[39m10\u001b[39m))\n\u001b[1;32m      3\u001b[0m \u001b[39mfor\u001b[39;00m i, exp \u001b[39min\u001b[39;00m \u001b[39menumerate\u001b[39m(experiments):\n\u001b[0;32m----> 4\u001b[0m     ax[i]\u001b[39m.\u001b[39mplot(data[i][\u001b[39m\"\u001b[39m\u001b[39mTop1_ClassAcc_MB/train_phase/train_stream/Task000/0\u001b[39m\u001b[39m\"\u001b[39m], label\u001b[39m=\u001b[39m\u001b[39m\"\u001b[39m\u001b[39mClass 0\u001b[39m\u001b[39m\"\u001b[39m)\n\u001b[1;32m      5\u001b[0m     ax[i]\u001b[39m.\u001b[39mplot(data[i][\u001b[39m\"\u001b[39m\u001b[39mTop1_ClassAcc_MB/train_phase/train_stream/Task000/1\u001b[39m\u001b[39m\"\u001b[39m], label\u001b[39m=\u001b[39m\u001b[39m\"\u001b[39m\u001b[39mClass 1\u001b[39m\u001b[39m\"\u001b[39m)\n\u001b[1;32m      6\u001b[0m     ax[i]\u001b[39m.\u001b[39mplot(data[i][\u001b[39m\"\u001b[39m\u001b[39mTop1_ClassAcc_MB/train_phase/train_stream/Task000/2\u001b[39m\u001b[39m\"\u001b[39m], label\u001b[39m=\u001b[39m\u001b[39m\"\u001b[39m\u001b[39mClass 2\u001b[39m\u001b[39m\"\u001b[39m)\n",
      "\u001b[0;31mTypeError\u001b[0m: 'Axes' object is not subscriptable"
     ]
    },
    {
     "data": {
      "image/png": "[encoded data removed]",
      "text/plain": [
       "<Figure size 1000x1000 with 1 Axes>"
      ]
     },
     "metadata": {},
     "output_type": "display_data"
    }
   ],
   "source": [
    "# Let's now plot a graph for the accuracy and loss over training for each experiment:\n",
    "fig, ax = plt.subplots(len(experiments), 1, figsize=(10, 10))\n",
    "for i, exp in enumerate(experiments):\n",
    "    ax[i].plot(data[i][\"Top1_ClassAcc_MB/train_phase/train_stream/Task000/0\"], label=\"Class 0\")\n",
    "    ax[i].plot(data[i][\"Top1_ClassAcc_MB/train_phase/train_stream/Task000/1\"], label=\"Class 1\")\n",
    "    ax[i].plot(data[i][\"Top1_ClassAcc_MB/train_phase/train_stream/Task000/2\"], label=\"Class 2\")\n",
    "    ax[i].plot(data[i][\"Top1_ClassAcc_MB/train_phase/train_stream/Task000/3\"], label=\"Class 3\")\n",
    "    ax[i].plot(data[i][\"Top1_ClassAcc_MB/train_phase/train_stream/Task000/4\"], label=\"Class 4\")\n",
    "    ax[i].plot(data[i][\"Top1_ClassAcc_MB/train_phase/train_stream/Task000/5\"], label=\"Class 5\")\n",
    "    ax[i].plot(data[i][\"Top1_ClassAcc_MB/train_phase/train_stream/Task000/6\"], label=\"Class 6\")\n",
    "    ax[i].plot(data[i][\"Top1_ClassAcc_MB/train_phase/train_stream/Task000/7\"], label=\"Class 7\")\n",
    "    ax[i].plot(data[i][\"Top1_ClassAcc_MB/train_phase/train_stream/Task000/8\"], label=\"Class 8\")\n",
    "    ax[i].plot(data[i][\"Top1_ClassAcc_MB/train_phase/train_stream/Task000/9\"], label=\"Class 9\")\n",
    "    ax[i,0].set_title(exp)\n",
    "    ax[i,0].set_xlabel(\"Minibatch\")\n",
    "    ax[i,0].set_ylabel(\"Accuracy\")\n",
    "    ax[i,0].legend()"
   ]
  }
 ],
 "metadata": {
  "kernelspec": {
   "display_name": ".venv",
   "language": "python",
   "name": "python3"
  },
  "language_info": {
   "codemirror_mode": {
    "name": "ipython",
    "version": 3
   },
   "file_extension": ".py",
   "mimetype": "text/x-python",
   "name": "python",
   "nbconvert_exporter": "python",
   "pygments_lexer": "ipython3",
   "version": "3.8.10"
  },
  "orig_nbformat": 4
 },
 "nbformat": 4,
 "nbformat_minor": 2
}
